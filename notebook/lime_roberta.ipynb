{
 "cells": [
  {
   "cell_type": "code",
   "execution_count": 1,
   "metadata": {},
   "outputs": [],
   "source": [
    "# ray Roberta lime\n",
    "from explainability_techniques.lime import LIMEExplainer\n",
    "import pandas as pd\n",
    "import pickle\n",
    "from torch import nn\n",
    "from models.roberta_model import classify_comment\n",
    "from transformers import AutoTokenizer\n",
    "from utils.utils import load_dataset, save_explanation\n",
    "import sys\n",
    "sys.path.append(\n",
    "    'D:/Universidad/informatica 4 año/2do Semestre/tesis_XAI')"
   ]
  },
  {
   "cell_type": "code",
   "execution_count": 2,
   "metadata": {},
   "outputs": [],
   "source": [
    "dataset = load_dataset(\n",
    "    \"../models/relevance_classification/dataset/facebook_labeled.csv\", sep=\",\")"
   ]
  },
  {
   "cell_type": "code",
   "execution_count": 3,
   "metadata": {},
   "outputs": [
    {
     "name": "stderr",
     "output_type": "stream",
     "text": [
      "D:\\Universidad/informatica 4 año/2do Semestre/tesis_XAI\\models\\roberta_model.py:8: FutureWarning: You are using `torch.load` with `weights_only=False` (the current default value), which uses the default pickle module implicitly. It is possible to construct malicious pickle data which will execute arbitrary code during unpickling (See https://github.com/pytorch/pytorch/blob/main/SECURITY.md#untrusted-models for more details). In a future release, the default value for `weights_only` will be flipped to `True`. This limits the functions that could be executed during unpickling. Arbitrary objects will no longer be allowed to be loaded via this mode unless they are explicitly allowlisted by the user via `torch.serialization.add_safe_globals`. We recommend you start setting `weights_only=True` for any use case where you don't have full control of the loaded file. Please open an issue on GitHub for any issues related to this experimental feature.\n",
      "  return torch.load(\n",
      "c:\\Users\\naybv\\AppData\\Local\\Programs\\Python\\Python312\\Lib\\site-packages\\huggingface_hub\\file_download.py:1150: FutureWarning: `resume_download` is deprecated and will be removed in version 1.0.0. Downloads always resume when possible. If you want to force a new download, use `force_download=True`.\n",
      "  warnings.warn(\n"
     ]
    }
   ],
   "source": [
    "from models.roberta_model import load_roberta_model_notebook\n",
    "\n",
    "\n",
    "roberta_model = load_roberta_model_notebook()\n",
    "\n",
    "tokenizer = AutoTokenizer.from_pretrained(\"roberta-base\")"
   ]
  },
  {
   "cell_type": "code",
   "execution_count": 4,
   "metadata": {},
   "outputs": [],
   "source": [
    "\n",
    "class_names = ['not relevant', 'relevant']\n",
    "explainer_roberta = LIMEExplainer(class_names=class_names)"
   ]
  },
  {
   "cell_type": "code",
   "execution_count": 5,
   "metadata": {},
   "outputs": [
    {
     "name": "stdout",
     "output_type": "stream",
     "text": [
      "i have to go to the web for that and i cant organize my photos in certain albums only in the web!\n",
      "\n"
     ]
    }
   ],
   "source": [
    "instance_index = 1\n",
    "instance_roberta = dataset['Review'].iloc[instance_index]\n",
    "print(instance_roberta)"
   ]
  },
  {
   "cell_type": "code",
   "execution_count": 6,
   "metadata": {},
   "outputs": [
    {
     "name": "stderr",
     "output_type": "stream",
     "text": [
      "D:\\Universidad/informatica 4 año/2do Semestre/tesis_XAI\\models\\roberta_model.py:8: FutureWarning: You are using `torch.load` with `weights_only=False` (the current default value), which uses the default pickle module implicitly. It is possible to construct malicious pickle data which will execute arbitrary code during unpickling (See https://github.com/pytorch/pytorch/blob/main/SECURITY.md#untrusted-models for more details). In a future release, the default value for `weights_only` will be flipped to `True`. This limits the functions that could be executed during unpickling. Arbitrary objects will no longer be allowed to be loaded via this mode unless they are explicitly allowlisted by the user via `torch.serialization.add_safe_globals`. We recommend you start setting `weights_only=True` for any use case where you don't have full control of the loaded file. Please open an issue on GitHub for any issues related to this experimental feature.\n",
      "  return torch.load(\n"
     ]
    }
   ],
   "source": [
    "explanation_roberta = explainer_roberta.explain_instance(\n",
    "    instance_roberta, classify_comment, num_features=20, num_samples=100)"
   ]
  },
  {
   "cell_type": "code",
   "execution_count": 9,
   "metadata": {},
   "outputs": [
    {
     "name": "stdout",
     "output_type": "stream",
     "text": [
      "[0.00959295 0.99040705]\n"
     ]
    }
   ],
   "source": [
    "# Extraer las probabilidades de predicción generadas por LIME\n",
    "lime_probabilities = explainer_roberta.get_predict_proba(\n",
    "    explanation_roberta)  # Probabilidades generadas por LIME\n",
    "print(lime_probabilities)"
   ]
  },
  {
   "cell_type": "code",
   "execution_count": 10,
   "metadata": {},
   "outputs": [
    {
     "name": "stdout",
     "output_type": "stream",
     "text": [
      "Explicación guardada en lime_explanation__1.xlsx\n"
     ]
    }
   ],
   "source": [
    "# Preparar los datos para el Excel\n",
    "data = []\n",
    "# Obtener la lista de rasgos y pesos de la explicación\n",
    "explanation_list = explanation_roberta.as_list()\n",
    "for i, class_name in enumerate(class_names):\n",
    "    # Filtrar los rasgos y valores de pertenencia según la clase\n",
    "    if class_name == 'not relevant':\n",
    "        relevant_features = [feature for feature,\n",
    "                             weight in explanation_list if weight < 0]\n",
    "        relevant_weights = [weight for feature,\n",
    "                            weight in explanation_list if weight < 0]\n",
    "    else:  # class_name == 'relevant'\n",
    "        relevant_features = [feature for feature,\n",
    "                             weight in explanation_list if weight > 0]\n",
    "        relevant_weights = [weight for feature,\n",
    "                            weight in explanation_list if weight > 0]\n",
    "\n",
    "    data.append({\n",
    "        'Instancia': instance_roberta,\n",
    "        'Clase': class_name,\n",
    "        # Probabilidad asignada por LIME a esta clase\n",
    "        'Probabilidad (LIME)': lime_probabilities[i],\n",
    "        # Convertir lista en string para mejor visualización en Excel\n",
    "        'Rasgos': ', '.join(relevant_features),\n",
    "        # Convertir lista en string\n",
    "        'Valores de Pertenencia': ', '.join(map(str, relevant_weights))\n",
    "    })\n",
    "\n",
    "# Crear un DataFrame de pandas\n",
    "df = pd.DataFrame(data)\n",
    "\n",
    "# Guardar el DataFrame en un archivo Excel\n",
    "excel_file = f'lime_explanation__{instance_index}.xlsx'\n",
    "df.to_excel(excel_file, index=False)\n",
    "\n",
    "print(f\"Explicación guardada en {excel_file}\")"
   ]
  },
  {
   "cell_type": "code",
   "execution_count": 11,
   "metadata": {},
   "outputs": [],
   "source": [
    "html_roberta = explanation_roberta.as_html()\n",
    "save_explanation(html_roberta, 'roberta_explanation_opinion573_100_lime.html')\n",
    "explainer_roberta.save_and_open_html(\n",
    "    html_roberta, 'roberta_explanation_opinion573_100_lime.html')"
   ]
  }
 ],
 "metadata": {
  "kernelspec": {
   "display_name": "Python 3",
   "language": "python",
   "name": "python3"
  },
  "language_info": {
   "codemirror_mode": {
    "name": "ipython",
    "version": 3
   },
   "file_extension": ".py",
   "mimetype": "text/x-python",
   "name": "python",
   "nbconvert_exporter": "python",
   "pygments_lexer": "ipython3",
   "version": "3.12.4"
  }
 },
 "nbformat": 4,
 "nbformat_minor": 2
}
