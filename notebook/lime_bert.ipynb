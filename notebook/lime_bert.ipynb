{
 "cells": [
  {
   "cell_type": "code",
   "execution_count": 1,
   "metadata": {},
   "outputs": [],
   "source": [
    "# miguel BERT lime\n",
    "import numpy as np\n",
    "\n",
    "\n",
    "from explainability_techniques.lime import LIMEExplainer\n",
    "\n",
    "from transformers import AutoTokenizer\n",
    "from models.bert_model import load_bert_model, classify_sentiment_proba\n",
    "from torch import nn\n",
    "import pickle\n",
    "from utils.utils import load_dataset, save_explanation\n",
    "import sys\n",
    "\n",
    "sys.path.append(\n",
    "    'D:/Universidad/informatica 4 año/2do Semestre/tesis_XAI')"
   ]
  },
  {
   "cell_type": "code",
   "execution_count": 2,
   "metadata": {},
   "outputs": [],
   "source": [
    "dataset = load_dataset(\n",
    "    \"../models/opinion_classification/dataset/hotel_review_tain_5000.csv\", sep=\";\")"
   ]
  },
  {
   "cell_type": "code",
   "execution_count": 3,
   "metadata": {},
   "outputs": [],
   "source": [
    "class ModelSentiment(nn.Module):\n",
    "\n",
    "    def __init__(self, n_classes):\n",
    "        super(ModelSentiment, self).__init__()\n",
    "\n",
    "    def forward(self, input_ids, attention_mask):\n",
    "        cls_output = self.model(input_ids, attention_mask)\n",
    "        drop_output = self.drop(cls_output.pooler_output)\n",
    "        output = self.linear(drop_output)\n",
    "        return output"
   ]
  },
  {
   "cell_type": "code",
   "execution_count": 4,
   "metadata": {},
   "outputs": [],
   "source": [
    "from transformers import AutoModelForSequenceClassification\n",
    "\n",
    "\n",
    "bert_model = pickle.load(\n",
    "    open(\"../models/opinion_classification/Bert_Model_Hotel_len_data.pkl\", \"rb\"))\n",
    "\n",
    "\n",
    "tokenizer = AutoTokenizer.from_pretrained(\n",
    "\n",
    "\n",
    "    \"../models/opinion_classification/Bert_Hotel_max_len/\")"
   ]
  },
  {
   "cell_type": "code",
   "execution_count": 5,
   "metadata": {},
   "outputs": [],
   "source": [
    "explainer_bert = LIMEExplainer(class_names=['negative', 'positive'])"
   ]
  },
  {
   "cell_type": "code",
   "execution_count": 6,
   "metadata": {},
   "outputs": [
    {
     "name": "stdout",
     "output_type": "stream",
     "text": [
      "Como bien les comenté a los propietarios a la hora de abandonar el hotel, no dudaré un momento en recomendar una y otra vez el Hotel Albero de Granada. Su situación respecto del centro de Granada no es la mejor, pero para nuestros propósitos era perfecto (escapada de fin de semana con visita a la Alhambra). Se encuentra en la carretera de paso a Sierra Nevada y muy cercano a la Alhambra. Por la zona se puede encontrar aparcamiento y este se encuentra en una zona segura y tranquila. Los parkings del centro de Granada que nos recomendaron en el hotel fueron lo que nos dijeron (nada caros) y pudimos movernos por el centro perfectamente desde allí. Las habitaciones muy limpias y las camas confortables. El desayuno fue espectacular. Ya teníamos buenas referencias de este maravilloso hotel de una estrella (que para mí que viajo constantemente son más) pero ha superado con creces nuestras expectativas. Si vuelvo a Granada no dudaré en hospedarme en el mismo hotel. Muchas gracias por todo!!\n"
     ]
    }
   ],
   "source": [
    "\n",
    "\n",
    "instance_bert = dataset['Review'].iloc[0]\n",
    "\n",
    "print(instance_bert)"
   ]
  },
  {
   "cell_type": "code",
   "execution_count": 7,
   "metadata": {},
   "outputs": [],
   "source": [
    "explanation_bert = explainer_bert.explain_instance(\n",
    "\n",
    "    instance_bert, classify_sentiment_proba)"
   ]
  },
  {
   "cell_type": "code",
   "execution_count": 8,
   "metadata": {},
   "outputs": [],
   "source": [
    "html_bert = explanation_bert.as_html()\n",
    "save_explanation(html_bert, 'bert_explanation_opinion1510_5000_lime.html')\n",
    "explainer_bert.save_and_open_html(\n",
    "    html_bert, 'bert_explanation_opinion1510_5000_lime.html')"
   ]
  }
 ],
 "metadata": {
  "kernelspec": {
   "display_name": "Python 3",
   "language": "python",
   "name": "python3"
  },
  "language_info": {
   "codemirror_mode": {
    "name": "ipython",
    "version": 3
   },
   "file_extension": ".py",
   "mimetype": "text/x-python",
   "name": "python",
   "nbconvert_exporter": "python",
   "pygments_lexer": "ipython3",
   "version": "3.12.4"
  }
 },
 "nbformat": 4,
 "nbformat_minor": 2
}
